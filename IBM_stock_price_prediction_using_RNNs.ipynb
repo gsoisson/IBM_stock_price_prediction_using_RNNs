{
  "metadata": {
    "kernelspec": {
      "language": "python",
      "display_name": "Python 3",
      "name": "python3"
    },
    "language_info": {
      "name": "python",
      "version": "3.6.6",
      "mimetype": "text/x-python",
      "codemirror_mode": {
        "name": "ipython",
        "version": 3
      },
      "pygments_lexer": "ipython3",
      "nbconvert_exporter": "python",
      "file_extension": ".py"
    },
    "colab": {
      "provenance": [],
      "include_colab_link": true
    }
  },
  "nbformat_minor": 0,
  "nbformat": 4,
  "cells": [
    {
      "cell_type": "markdown",
      "metadata": {
        "id": "view-in-github",
        "colab_type": "text"
      },
      "source": [
        "<a href=\"https://colab.research.google.com/github/gsoisson/IBM_stock_price_prediction_using_RNNs/blob/main/IBM_stock_price_prediction_using_RNNs.ipynb\" target=\"_parent\"><img src=\"https://colab.research.google.com/assets/colab-badge.svg\" alt=\"Open In Colab\"/></a>"
      ]
    },
    {
      "cell_type": "markdown",
      "source": [
        "# Motivation\n",
        "I will use LSTMs for predicting IBM's stock price for the year 2017."
      ],
      "metadata": {
        "_uuid": "2f82cc24efc6283e5a98cadb78fc1a465e44c143",
        "trusted": true,
        "id": "yRYlXd0DQsa8"
      }
    },
    {
      "cell_type": "markdown",
      "source": [
        "# Data Processing"
      ],
      "metadata": {
        "id": "2PScV-24YFXC"
      }
    },
    {
      "cell_type": "code",
      "source": [
        "# Importing the libraries\n",
        "import numpy as np\n",
        "import matplotlib.pyplot as plt\n",
        "plt.style.use('fivethirtyeight')\n",
        "import pandas as pd\n",
        "from sklearn.preprocessing import MinMaxScaler\n",
        "from keras.models import Sequential\n",
        "from keras.layers import Dense, LSTM, Dropout, GRU, Bidirectional\n",
        "from keras.optimizers import SGD\n",
        "import math\n",
        "from sklearn.metrics import mean_squared_error"
      ],
      "metadata": {
        "_uuid": "da0236e4b36ce514c1fec3fd72f236d1fa259131",
        "execution": {
          "iopub.status.busy": "2023-01-16T14:51:12.601968Z",
          "iopub.execute_input": "2023-01-16T14:51:12.602597Z",
          "iopub.status.idle": "2023-01-16T14:51:12.610039Z",
          "shell.execute_reply.started": "2023-01-16T14:51:12.602541Z",
          "shell.execute_reply": "2023-01-16T14:51:12.608914Z"
        },
        "trusted": true,
        "id": "Sf3ag0-AQsa9"
      },
      "execution_count": 57,
      "outputs": []
    },
    {
      "cell_type": "code",
      "source": [
        "# Importing the data\n",
        "dataset = pd.read_csv('./IBM_2006-01-01_to_2018-01-01.csv', index_col='Date', parse_dates=['Date'])\n",
        "dataset.head()"
      ],
      "metadata": {
        "_uuid": "4cf10cf27420eb383b93b15c0895139ea96c0ed3",
        "execution": {
          "iopub.status.busy": "2023-01-16T14:51:12.627147Z",
          "iopub.execute_input": "2023-01-16T14:51:12.627631Z",
          "iopub.status.idle": "2023-01-16T14:51:12.668193Z",
          "shell.execute_reply.started": "2023-01-16T14:51:12.627434Z",
          "shell.execute_reply": "2023-01-16T14:51:12.667447Z"
        },
        "trusted": true,
        "colab": {
          "base_uri": "https://localhost:8080/",
          "height": 238
        },
        "id": "QwALB_y0Qsa-",
        "outputId": "f2bafce5-fe50-4bc9-f750-0814af4d34b2"
      },
      "execution_count": 58,
      "outputs": [
        {
          "output_type": "execute_result",
          "data": {
            "text/plain": [
              "             Open   High    Low  Close    Volume Name\n",
              "Date                                                 \n",
              "2006-01-03  82.45  82.55  80.81  82.06  11715200  IBM\n",
              "2006-01-04  82.20  82.50  81.33  81.95   9840600  IBM\n",
              "2006-01-05  81.40  82.90  81.00  82.50   7213500  IBM\n",
              "2006-01-06  83.95  85.03  83.41  84.95   8197400  IBM\n",
              "2006-01-09  84.10  84.25  83.38  83.73   6858200  IBM"
            ],
            "text/html": [
              "\n",
              "  <div id=\"df-28dc3c4f-ff24-4ed4-9d8e-94da1b81549d\">\n",
              "    <div class=\"colab-df-container\">\n",
              "      <div>\n",
              "<style scoped>\n",
              "    .dataframe tbody tr th:only-of-type {\n",
              "        vertical-align: middle;\n",
              "    }\n",
              "\n",
              "    .dataframe tbody tr th {\n",
              "        vertical-align: top;\n",
              "    }\n",
              "\n",
              "    .dataframe thead th {\n",
              "        text-align: right;\n",
              "    }\n",
              "</style>\n",
              "<table border=\"1\" class=\"dataframe\">\n",
              "  <thead>\n",
              "    <tr style=\"text-align: right;\">\n",
              "      <th></th>\n",
              "      <th>Open</th>\n",
              "      <th>High</th>\n",
              "      <th>Low</th>\n",
              "      <th>Close</th>\n",
              "      <th>Volume</th>\n",
              "      <th>Name</th>\n",
              "    </tr>\n",
              "    <tr>\n",
              "      <th>Date</th>\n",
              "      <th></th>\n",
              "      <th></th>\n",
              "      <th></th>\n",
              "      <th></th>\n",
              "      <th></th>\n",
              "      <th></th>\n",
              "    </tr>\n",
              "  </thead>\n",
              "  <tbody>\n",
              "    <tr>\n",
              "      <th>2006-01-03</th>\n",
              "      <td>82.45</td>\n",
              "      <td>82.55</td>\n",
              "      <td>80.81</td>\n",
              "      <td>82.06</td>\n",
              "      <td>11715200</td>\n",
              "      <td>IBM</td>\n",
              "    </tr>\n",
              "    <tr>\n",
              "      <th>2006-01-04</th>\n",
              "      <td>82.20</td>\n",
              "      <td>82.50</td>\n",
              "      <td>81.33</td>\n",
              "      <td>81.95</td>\n",
              "      <td>9840600</td>\n",
              "      <td>IBM</td>\n",
              "    </tr>\n",
              "    <tr>\n",
              "      <th>2006-01-05</th>\n",
              "      <td>81.40</td>\n",
              "      <td>82.90</td>\n",
              "      <td>81.00</td>\n",
              "      <td>82.50</td>\n",
              "      <td>7213500</td>\n",
              "      <td>IBM</td>\n",
              "    </tr>\n",
              "    <tr>\n",
              "      <th>2006-01-06</th>\n",
              "      <td>83.95</td>\n",
              "      <td>85.03</td>\n",
              "      <td>83.41</td>\n",
              "      <td>84.95</td>\n",
              "      <td>8197400</td>\n",
              "      <td>IBM</td>\n",
              "    </tr>\n",
              "    <tr>\n",
              "      <th>2006-01-09</th>\n",
              "      <td>84.10</td>\n",
              "      <td>84.25</td>\n",
              "      <td>83.38</td>\n",
              "      <td>83.73</td>\n",
              "      <td>6858200</td>\n",
              "      <td>IBM</td>\n",
              "    </tr>\n",
              "  </tbody>\n",
              "</table>\n",
              "</div>\n",
              "      <button class=\"colab-df-convert\" onclick=\"convertToInteractive('df-28dc3c4f-ff24-4ed4-9d8e-94da1b81549d')\"\n",
              "              title=\"Convert this dataframe to an interactive table.\"\n",
              "              style=\"display:none;\">\n",
              "        \n",
              "  <svg xmlns=\"http://www.w3.org/2000/svg\" height=\"24px\"viewBox=\"0 0 24 24\"\n",
              "       width=\"24px\">\n",
              "    <path d=\"M0 0h24v24H0V0z\" fill=\"none\"/>\n",
              "    <path d=\"M18.56 5.44l.94 2.06.94-2.06 2.06-.94-2.06-.94-.94-2.06-.94 2.06-2.06.94zm-11 1L8.5 8.5l.94-2.06 2.06-.94-2.06-.94L8.5 2.5l-.94 2.06-2.06.94zm10 10l.94 2.06.94-2.06 2.06-.94-2.06-.94-.94-2.06-.94 2.06-2.06.94z\"/><path d=\"M17.41 7.96l-1.37-1.37c-.4-.4-.92-.59-1.43-.59-.52 0-1.04.2-1.43.59L10.3 9.45l-7.72 7.72c-.78.78-.78 2.05 0 2.83L4 21.41c.39.39.9.59 1.41.59.51 0 1.02-.2 1.41-.59l7.78-7.78 2.81-2.81c.8-.78.8-2.07 0-2.86zM5.41 20L4 18.59l7.72-7.72 1.47 1.35L5.41 20z\"/>\n",
              "  </svg>\n",
              "      </button>\n",
              "      \n",
              "  <style>\n",
              "    .colab-df-container {\n",
              "      display:flex;\n",
              "      flex-wrap:wrap;\n",
              "      gap: 12px;\n",
              "    }\n",
              "\n",
              "    .colab-df-convert {\n",
              "      background-color: #E8F0FE;\n",
              "      border: none;\n",
              "      border-radius: 50%;\n",
              "      cursor: pointer;\n",
              "      display: none;\n",
              "      fill: #1967D2;\n",
              "      height: 32px;\n",
              "      padding: 0 0 0 0;\n",
              "      width: 32px;\n",
              "    }\n",
              "\n",
              "    .colab-df-convert:hover {\n",
              "      background-color: #E2EBFA;\n",
              "      box-shadow: 0px 1px 2px rgba(60, 64, 67, 0.3), 0px 1px 3px 1px rgba(60, 64, 67, 0.15);\n",
              "      fill: #174EA6;\n",
              "    }\n",
              "\n",
              "    [theme=dark] .colab-df-convert {\n",
              "      background-color: #3B4455;\n",
              "      fill: #D2E3FC;\n",
              "    }\n",
              "\n",
              "    [theme=dark] .colab-df-convert:hover {\n",
              "      background-color: #434B5C;\n",
              "      box-shadow: 0px 1px 3px 1px rgba(0, 0, 0, 0.15);\n",
              "      filter: drop-shadow(0px 1px 2px rgba(0, 0, 0, 0.3));\n",
              "      fill: #FFFFFF;\n",
              "    }\n",
              "  </style>\n",
              "\n",
              "      <script>\n",
              "        const buttonEl =\n",
              "          document.querySelector('#df-28dc3c4f-ff24-4ed4-9d8e-94da1b81549d button.colab-df-convert');\n",
              "        buttonEl.style.display =\n",
              "          google.colab.kernel.accessAllowed ? 'block' : 'none';\n",
              "\n",
              "        async function convertToInteractive(key) {\n",
              "          const element = document.querySelector('#df-28dc3c4f-ff24-4ed4-9d8e-94da1b81549d');\n",
              "          const dataTable =\n",
              "            await google.colab.kernel.invokeFunction('convertToInteractive',\n",
              "                                                     [key], {});\n",
              "          if (!dataTable) return;\n",
              "\n",
              "          const docLinkHtml = 'Like what you see? Visit the ' +\n",
              "            '<a target=\"_blank\" href=https://colab.research.google.com/notebooks/data_table.ipynb>data table notebook</a>'\n",
              "            + ' to learn more about interactive tables.';\n",
              "          element.innerHTML = '';\n",
              "          dataTable['output_type'] = 'display_data';\n",
              "          await google.colab.output.renderOutput(dataTable, element);\n",
              "          const docLink = document.createElement('div');\n",
              "          docLink.innerHTML = docLinkHtml;\n",
              "          element.appendChild(docLink);\n",
              "        }\n",
              "      </script>\n",
              "    </div>\n",
              "  </div>\n",
              "  "
            ]
          },
          "metadata": {},
          "execution_count": 58
        }
      ]
    },
    {
      "cell_type": "code",
      "source": [
        "# Checking for missing values\n",
        "training_set = dataset[:'2016'].iloc[:,1:2].values\n",
        "test_set = dataset['2017':].iloc[:,1:2].values"
      ],
      "metadata": {
        "_uuid": "fb4c9db6d8a5bcf20ffad41747cfa5b6215ba220",
        "execution": {
          "iopub.status.busy": "2023-01-16T14:51:12.669930Z",
          "iopub.execute_input": "2023-01-16T14:51:12.670318Z",
          "iopub.status.idle": "2023-01-16T14:51:12.678596Z",
          "shell.execute_reply.started": "2023-01-16T14:51:12.670261Z",
          "shell.execute_reply": "2023-01-16T14:51:12.677741Z"
        },
        "trusted": true,
        "id": "n54aGT5RQsa-"
      },
      "execution_count": 59,
      "outputs": []
    },
    {
      "cell_type": "code",
      "source": [
        "# Plotting the data\n",
        "dataset[\"High\"][:'2016'].plot(figsize=(16,4),legend=True)\n",
        "dataset[\"High\"]['2017':].plot(figsize=(16,4),legend=True)\n",
        "plt.legend(['Training set (Before 2017)','Test set (2017 and beyond)'])\n",
        "plt.title('IBM stock price')\n",
        "plt.show()"
      ],
      "metadata": {
        "_uuid": "bf5a9463d58e73852d2b70be9611e8cf1f4166fd",
        "execution": {
          "iopub.status.busy": "2023-01-16T14:51:12.679658Z",
          "iopub.execute_input": "2023-01-16T14:51:12.680055Z",
          "iopub.status.idle": "2023-01-16T14:51:13.157650Z",
          "shell.execute_reply.started": "2023-01-16T14:51:12.680009Z",
          "shell.execute_reply": "2023-01-16T14:51:13.156593Z"
        },
        "trusted": true,
        "colab": {
          "base_uri": "https://localhost:8080/",
          "height": 298
        },
        "id": "xGm-NGmuQsa_",
        "outputId": "9410eb5d-f57d-4893-aabc-6b612854e02b"
      },
      "execution_count": 60,
      "outputs": [
        {
          "output_type": "display_data",
          "data": {
            "text/plain": [
              "<Figure size 1152x288 with 1 Axes>"
            ],
            "image/png": "[encoded data removed]"
          },
          "metadata": {}
        }
      ]
    },
    {
      "cell_type": "code",
      "source": [
        "# Scaling the training set\n",
        "sc = MinMaxScaler(feature_range=(0,1))\n",
        "training_set_scaled = sc.fit_transform(training_set)\n"
      ],
      "metadata": {
        "_uuid": "bcc9c36165fc07d258bd5ea87874d2da17fa4a4d",
        "execution": {
          "iopub.status.busy": "2023-01-16T14:51:13.158662Z",
          "iopub.execute_input": "2023-01-16T14:51:13.158935Z",
          "iopub.status.idle": "2023-01-16T14:51:13.163720Z",
          "shell.execute_reply.started": "2023-01-16T14:51:13.158890Z",
          "shell.execute_reply": "2023-01-16T14:51:13.162744Z"
        },
        "trusted": true,
        "id": "XxzM6RwvQsa_"
      },
      "execution_count": 61,
      "outputs": []
    },
    {
      "cell_type": "code",
      "source": [
        "# Preparing the training set\n",
        "# Since LSTMs store long term memory states, we create a data structure with 60 timesteps and 1 output\n",
        "# So for each element of the training set, we have 60 previous elements of the training set\n",
        "X_train = []\n",
        "y_train = []\n",
        "for i in range(60,len(training_set)):\n",
        "    X_train.append(training_set_scaled[i-60:i,0])\n",
        "    y_train.append(training_set_scaled[i,0])\n",
        "X_train, y_train = np.array(X_train), np.array(y_train)"
      ],
      "metadata": {
        "_uuid": "fccfb866a2b4c702e0b2742f7c0289512d713d1b",
        "execution": {
          "iopub.status.busy": "2023-01-16T14:51:13.164981Z",
          "iopub.execute_input": "2023-01-16T14:51:13.165253Z",
          "iopub.status.idle": "2023-01-16T14:51:13.180884Z",
          "shell.execute_reply.started": "2023-01-16T14:51:13.165207Z",
          "shell.execute_reply": "2023-01-16T14:51:13.179901Z"
        },
        "trusted": true,
        "id": "-6jChJEcQsbA"
      },
      "execution_count": 62,
      "outputs": []
    },
    {
      "cell_type": "code",
      "source": [
        "# Reshaping X_train for efficient modelling\n",
        "X_train = np.reshape(X_train, (X_train.shape[0],X_train.shape[1],1))"
      ],
      "metadata": {
        "_uuid": "637f699d3c4bde4b783de56ed4dd70a1bf59760d",
        "execution": {
          "iopub.status.busy": "2023-01-16T14:51:13.182485Z",
          "iopub.execute_input": "2023-01-16T14:51:13.182835Z",
          "iopub.status.idle": "2023-01-16T14:51:13.189390Z",
          "shell.execute_reply.started": "2023-01-16T14:51:13.182778Z",
          "shell.execute_reply": "2023-01-16T14:51:13.188347Z"
        },
        "trusted": true,
        "id": "Yl7ua-blQsbA"
      },
      "execution_count": 63,
      "outputs": []
    },
    {
      "cell_type": "markdown",
      "source": [
        "# LSTM Model"
      ],
      "metadata": {
        "id": "0uYQ53F7X2jm"
      }
    },
    {
      "cell_type": "code",
      "source": [
        "# The LSTM architecture\n",
        "regressor = Sequential()\n",
        "# First LSTM layer with Dropout regularisation\n",
        "regressor.add(LSTM(units=50, return_sequences=True, input_shape=(X_train.shape[1],1)))\n",
        "regressor.add(Dropout(0.2))\n",
        "# Second LSTM layer\n",
        "regressor.add(LSTM(units=50, return_sequences=True))\n",
        "regressor.add(Dropout(0.2))\n",
        "# Third LSTM layer\n",
        "regressor.add(LSTM(units=50, return_sequences=True))\n",
        "regressor.add(Dropout(0.2))\n",
        "# Fourth LSTM layer\n",
        "regressor.add(LSTM(units=50))\n",
        "regressor.add(Dropout(0.2))\n",
        "# The output layer\n",
        "regressor.add(Dense(units=1))\n",
        "\n",
        "# Compiling the RNN\n",
        "regressor.compile(optimizer='rmsprop',loss='mean_squared_error')\n",
        "# Fitting to the training set\n",
        "regressor.fit(X_train,y_train,epochs=50,batch_size=32)"
      ],
      "metadata": {
        "_uuid": "df20eb7e8062dae0a3aff2182aa440faddd0017d",
        "execution": {
          "iopub.status.busy": "2023-01-16T14:51:13.190573Z",
          "iopub.execute_input": "2023-01-16T14:51:13.190889Z",
          "iopub.status.idle": "2023-01-16T14:54:29.673065Z",
          "shell.execute_reply.started": "2023-01-16T14:51:13.190825Z",
          "shell.execute_reply": "2023-01-16T14:54:29.672312Z"
        },
        "trusted": true,
        "colab": {
          "base_uri": "https://localhost:8080/"
        },
        "id": "T3vqrPViQsbA",
        "outputId": "ac5159a4-6970-48e7-b666-634a6999ba59"
      },
      "execution_count": 64,
      "outputs": [
        {
          "output_type": "stream",
          "name": "stdout",
          "text": [
            "Epoch 1/50\n",
            "85/85 [==============================] - 21s 142ms/step - loss: 0.0269\n",
            "Epoch 2/50\n",
            "85/85 [==============================] - 12s 141ms/step - loss: 0.0107\n",
            "Epoch 3/50\n",
            "85/85 [==============================] - 12s 142ms/step - loss: 0.0086\n",
            "Epoch 4/50\n",
            "85/85 [==============================] - 12s 136ms/step - loss: 0.0076\n",
            "Epoch 5/50\n",
            "85/85 [==============================] - 11s 135ms/step - loss: 0.0064\n",
            "Epoch 6/50\n",
            "85/85 [==============================] - 12s 140ms/step - loss: 0.0055\n",
            "Epoch 7/50\n",
            "85/85 [==============================] - 14s 170ms/step - loss: 0.0052\n",
            "Epoch 8/50\n",
            "85/85 [==============================] - 12s 136ms/step - loss: 0.0045\n",
            "Epoch 9/50\n",
            "85/85 [==============================] - 12s 137ms/step - loss: 0.0041\n",
            "Epoch 10/50\n",
            "85/85 [==============================] - 12s 137ms/step - loss: 0.0040\n",
            "Epoch 11/50\n",
            "85/85 [==============================] - 12s 138ms/step - loss: 0.0036\n",
            "Epoch 12/50\n",
            "85/85 [==============================] - 12s 138ms/step - loss: 0.0037\n",
            "Epoch 13/50\n",
            "85/85 [==============================] - 12s 137ms/step - loss: 0.0035\n",
            "Epoch 14/50\n",
            "85/85 [==============================] - 11s 135ms/step - loss: 0.0035\n",
            "Epoch 15/50\n",
            "85/85 [==============================] - 12s 137ms/step - loss: 0.0032\n",
            "Epoch 16/50\n",
            "85/85 [==============================] - 12s 138ms/step - loss: 0.0029\n",
            "Epoch 17/50\n",
            "85/85 [==============================] - 12s 136ms/step - loss: 0.0029\n",
            "Epoch 18/50\n",
            "85/85 [==============================] - 12s 143ms/step - loss: 0.0028\n",
            "Epoch 19/50\n",
            "85/85 [==============================] - 12s 142ms/step - loss: 0.0026\n",
            "Epoch 20/50\n",
            "85/85 [==============================] - 12s 136ms/step - loss: 0.0026\n",
            "Epoch 21/50\n",
            "85/85 [==============================] - 12s 137ms/step - loss: 0.0024\n",
            "Epoch 22/50\n",
            "85/85 [==============================] - 12s 138ms/step - loss: 0.0024\n",
            "Epoch 23/50\n",
            "85/85 [==============================] - 11s 133ms/step - loss: 0.0023\n",
            "Epoch 24/50\n",
            "85/85 [==============================] - 12s 138ms/step - loss: 0.0023\n",
            "Epoch 25/50\n",
            "85/85 [==============================] - 12s 137ms/step - loss: 0.0023\n",
            "Epoch 26/50\n",
            "85/85 [==============================] - 12s 139ms/step - loss: 0.0020\n",
            "Epoch 27/50\n",
            "85/85 [==============================] - 11s 135ms/step - loss: 0.0021\n",
            "Epoch 28/50\n",
            "85/85 [==============================] - 12s 137ms/step - loss: 0.0021\n",
            "Epoch 29/50\n",
            "85/85 [==============================] - 11s 135ms/step - loss: 0.0020\n",
            "Epoch 30/50\n",
            "85/85 [==============================] - 11s 135ms/step - loss: 0.0021\n",
            "Epoch 31/50\n",
            "85/85 [==============================] - 12s 139ms/step - loss: 0.0019\n",
            "Epoch 32/50\n",
            "85/85 [==============================] - 11s 135ms/step - loss: 0.0020\n",
            "Epoch 33/50\n",
            "85/85 [==============================] - 12s 138ms/step - loss: 0.0018\n",
            "Epoch 34/50\n",
            "85/85 [==============================] - 12s 138ms/step - loss: 0.0018\n",
            "Epoch 35/50\n",
            "85/85 [==============================] - 12s 138ms/step - loss: 0.0016\n",
            "Epoch 36/50\n",
            "85/85 [==============================] - 11s 135ms/step - loss: 0.0017\n",
            "Epoch 37/50\n",
            "85/85 [==============================] - 11s 135ms/step - loss: 0.0017\n",
            "Epoch 38/50\n",
            "85/85 [==============================] - 12s 138ms/step - loss: 0.0017\n",
            "Epoch 39/50\n",
            "85/85 [==============================] - 12s 137ms/step - loss: 0.0017\n",
            "Epoch 40/50\n",
            "85/85 [==============================] - 12s 137ms/step - loss: 0.0016\n",
            "Epoch 41/50\n",
            "85/85 [==============================] - 12s 137ms/step - loss: 0.0016\n",
            "Epoch 42/50\n",
            "85/85 [==============================] - 11s 133ms/step - loss: 0.0016\n",
            "Epoch 43/50\n",
            "85/85 [==============================] - 13s 150ms/step - loss: 0.0015\n",
            "Epoch 44/50\n",
            "85/85 [==============================] - 11s 135ms/step - loss: 0.0015\n",
            "Epoch 45/50\n",
            "85/85 [==============================] - 11s 135ms/step - loss: 0.0015\n",
            "Epoch 46/50\n",
            "85/85 [==============================] - 11s 135ms/step - loss: 0.0015\n",
            "Epoch 47/50\n",
            "85/85 [==============================] - 12s 137ms/step - loss: 0.0014\n",
            "Epoch 48/50\n",
            "85/85 [==============================] - 12s 135ms/step - loss: 0.0015\n",
            "Epoch 49/50\n",
            "85/85 [==============================] - 12s 136ms/step - loss: 0.0015\n",
            "Epoch 50/50\n",
            "85/85 [==============================] - 11s 134ms/step - loss: 0.0014\n"
          ]
        },
        {
          "output_type": "execute_result",
          "data": {
            "text/plain": [
              "<keras.callbacks.History at 0x7f6573b9e610>"
            ]
          },
          "metadata": {},
          "execution_count": 64
        }
      ]
    },
    {
      "cell_type": "code",
      "source": [
        "# Scaling the test set\n",
        "test_set_scaled  = sc.transform(test_set)"
      ],
      "metadata": {
        "id": "mWWF5NZgT1XZ"
      },
      "execution_count": 65,
      "outputs": []
    },
    {
      "cell_type": "code",
      "source": [
        "# Preparing the test set\n",
        "X_test = []\n",
        "for i in range(60,len(test_set)):\n",
        "    X_test.append(test_set_scaled[i-60:i,0])\n",
        "X_test = np.array(X_test)"
      ],
      "metadata": {
        "_uuid": "435b8024814939ac4fbd372baa0cd8cfc78f80bc",
        "execution": {
          "iopub.status.busy": "2023-01-16T14:54:29.690537Z",
          "iopub.execute_input": "2023-01-16T14:54:29.691171Z",
          "iopub.status.idle": "2023-01-16T14:54:30.590581Z",
          "shell.execute_reply.started": "2023-01-16T14:54:29.691112Z",
          "shell.execute_reply": "2023-01-16T14:54:30.589647Z"
        },
        "trusted": true,
        "id": "6D1zKPykQsbB"
      },
      "execution_count": 66,
      "outputs": []
    },
    {
      "cell_type": "code",
      "source": [
        "# Reshaping X_test for efficient predicting\n",
        "X_test = np.reshape(X_test, (X_test.shape[0],X_test.shape[1],1))"
      ],
      "metadata": {
        "id": "gdqDhSsnREw8"
      },
      "execution_count": 67,
      "outputs": []
    },
    {
      "cell_type": "code",
      "source": [
        "# Predicting prices\n",
        "predicted_stock_price = regressor.predict(X_test)\n",
        "predicted_stock_price = sc.inverse_transform(predicted_stock_price)"
      ],
      "metadata": {
        "colab": {
          "base_uri": "https://localhost:8080/"
        },
        "id": "vrDWkgtPRE0Q",
        "outputId": "89e07ff4-9f78-4b25-d8c2-a7c99dcb4c6d"
      },
      "execution_count": 68,
      "outputs": [
        {
          "output_type": "stream",
          "name": "stdout",
          "text": [
            "6/6 [==============================] - 2s 37ms/step\n"
          ]
        }
      ]
    },
    {
      "cell_type": "code",
      "source": [
        "# Some functions to help out with visualizing the results\n",
        "def plot_predictions(test,predicted):\n",
        "    plt.plot(test, color='red',label='Real IBM Stock Price')\n",
        "    plt.plot(predicted, color='blue',label='Predicted IBM Stock Price')\n",
        "    plt.title('IBM Stock Price Prediction')\n",
        "    plt.xlabel('Time')\n",
        "    plt.ylabel('IBM Stock Price')\n",
        "    plt.legend()\n",
        "    plt.show()\n",
        "\n",
        "def return_rmse(test,predicted):\n",
        "    rmse = math.sqrt(mean_squared_error(test, predicted))\n",
        "    print(\"The root mean squared error is {}.\".format(rmse))"
      ],
      "metadata": {
        "_uuid": "b288a8e2caf6196daec9cd2bc4ca78fe50345845",
        "execution": {
          "iopub.status.busy": "2023-01-16T14:51:12.612238Z",
          "iopub.execute_input": "2023-01-16T14:51:12.612699Z",
          "iopub.status.idle": "2023-01-16T14:51:12.625200Z",
          "shell.execute_reply.started": "2023-01-16T14:51:12.612606Z",
          "shell.execute_reply": "2023-01-16T14:51:12.624315Z"
        },
        "trusted": true,
        "id": "WLXccexMQsa9"
      },
      "execution_count": 69,
      "outputs": []
    },
    {
      "cell_type": "code",
      "source": [
        "# Visualizing the results\n",
        "plot_predictions(test_set[60:],predicted_stock_price)"
      ],
      "metadata": {
        "_uuid": "b774a8e79e53eac89694cafef6b11aa99226b95f",
        "execution": {
          "iopub.status.busy": "2023-01-16T14:54:30.591667Z",
          "iopub.execute_input": "2023-01-16T14:54:30.591912Z",
          "iopub.status.idle": "2023-01-16T14:54:30.884833Z"
        },
        "trusted": true,
        "colab": {
          "base_uri": "https://localhost:8080/",
          "height": 325
        },
        "id": "BuV__NfEQsbB",
        "outputId": "1d643ee8-01ab-474a-ce08-f041b055c678"
      },
      "execution_count": 70,
      "outputs": [
        {
          "output_type": "display_data",
          "data": {
            "text/plain": [
              "<Figure size 432x288 with 1 Axes>"
            ],
            "image/png": "[encoded data removed]"
          },
          "metadata": {}
        }
      ]
    },
    {
      "cell_type": "code",
      "source": [
        "# Evaluating our model\n",
        "return_rmse(test_set[60:],predicted_stock_price)"
      ],
      "metadata": {
        "_uuid": "f6f6db0b6e1f17ac63c06ce49856873d98ba5f00",
        "execution": {
          "iopub.status.busy": "2023-01-16T14:54:30.885835Z",
          "iopub.execute_input": "2023-01-16T14:54:30.886118Z",
          "iopub.status.idle": "2023-01-16T14:54:30.890682Z"
        },
        "trusted": true,
        "colab": {
          "base_uri": "https://localhost:8080/"
        },
        "id": "g0fuZN63QsbC",
        "outputId": "be600fbd-643e-4ed1-81c4-43b45188d2ef"
      },
      "execution_count": 72,
      "outputs": [
        {
          "output_type": "stream",
          "name": "stdout",
          "text": [
            "The root mean squared error is 2.2544639422365105.\n"
          ]
        }
      ]
    },
    {
      "cell_type": "markdown",
      "source": [
        "We see that the prediction is quite good but it is sort of lagging behind the real price. This is due to the fact that we told the network to remember the last 60 prices, which is a lot. A better way to go about it may be to use Gated Recurrent Units, which manage the number of past states to remember automatically."
      ],
      "metadata": {
        "id": "4JJuq2WQZPaY"
      }
    },
    {
      "cell_type": "markdown",
      "source": [
        "# GRU Model"
      ],
      "metadata": {
        "id": "dfr4sVYpXep6"
      }
    },
    {
      "cell_type": "code",
      "source": [
        "# The GRU architecture\n",
        "regressorGRU = Sequential()\n",
        "# First GRU layer with Dropout regularisation\n",
        "regressorGRU.add(GRU(units=50, return_sequences=True, input_shape=(X_train.shape[1],1), activation='tanh'))\n",
        "regressorGRU.add(Dropout(0.2))\n",
        "# Second GRU layer\n",
        "regressorGRU.add(GRU(units=50, return_sequences=True, input_shape=(X_train.shape[1],1), activation='tanh'))\n",
        "regressorGRU.add(Dropout(0.2))\n",
        "# Third GRU layer\n",
        "regressorGRU.add(GRU(units=50, return_sequences=True, input_shape=(X_train.shape[1],1), activation='tanh'))\n",
        "regressorGRU.add(Dropout(0.2))\n",
        "# Fourth GRU layer\n",
        "regressorGRU.add(GRU(units=50, activation='tanh'))\n",
        "regressorGRU.add(Dropout(0.2))\n",
        "# The output layer\n",
        "regressorGRU.add(Dense(units=1))\n",
        "# Compiling the RNN\n",
        "regressorGRU.compile(optimizer=SGD(lr=0.01, decay=1e-7, momentum=0.9, nesterov=False),loss='mean_squared_error')\n",
        "# Fitting to the training set\n",
        "regressorGRU.fit(X_train,y_train,epochs=50,batch_size=150)"
      ],
      "metadata": {
        "_uuid": "e9b616c5112d707d16cc4b277007e286cffd58f6",
        "execution": {
          "iopub.status.busy": "2023-01-16T14:54:30.891839Z",
          "iopub.execute_input": "2023-01-16T14:54:30.892214Z"
        },
        "trusted": true,
        "colab": {
          "base_uri": "https://localhost:8080/"
        },
        "id": "N7mfbrv-QsbC",
        "outputId": "882a284f-f491-4641-b3a4-ccc6668d2ca4"
      },
      "execution_count": 73,
      "outputs": [
        {
          "metadata": {
            "tags": null
          },
          "name": "stdout",
          "output_type": "stream",
          "text": [
            "Epoch 1/50\n"
          ]
        },
        {
          "metadata": {
            "tags": null
          },
          "name": "stderr",
          "output_type": "stream",
          "text": [
            "/usr/local/lib/python3.8/dist-packages/keras/optimizers/optimizer_v2/gradient_descent.py:108: UserWarning: The `lr` argument is deprecated, use `learning_rate` instead.\n",
            "  super(SGD, self).__init__(name, **kwargs)\n"
          ]
        },
        {
          "output_type": "stream",
          "name": "stdout",
          "text": [
            "19/19 [==============================] - 14s 272ms/step - loss: 0.1235\n",
            "Epoch 2/50\n",
            "19/19 [==============================] - 5s 279ms/step - loss: 0.0374\n",
            "Epoch 3/50\n",
            "19/19 [==============================] - 5s 278ms/step - loss: 0.0107\n",
            "Epoch 4/50\n",
            "19/19 [==============================] - 5s 277ms/step - loss: 0.0053\n",
            "Epoch 5/50\n",
            "19/19 [==============================] - 5s 277ms/step - loss: 0.0044\n",
            "Epoch 6/50\n",
            "19/19 [==============================] - 5s 279ms/step - loss: 0.0041\n",
            "Epoch 7/50\n",
            "19/19 [==============================] - 5s 269ms/step - loss: 0.0037\n",
            "Epoch 8/50\n",
            "19/19 [==============================] - 5s 274ms/step - loss: 0.0036\n",
            "Epoch 9/50\n",
            "19/19 [==============================] - 5s 270ms/step - loss: 0.0034\n",
            "Epoch 10/50\n",
            "19/19 [==============================] - 5s 275ms/step - loss: 0.0033\n",
            "Epoch 11/50\n",
            "19/19 [==============================] - 5s 278ms/step - loss: 0.0032\n",
            "Epoch 12/50\n",
            "19/19 [==============================] - 5s 271ms/step - loss: 0.0034\n",
            "Epoch 13/50\n",
            "19/19 [==============================] - 5s 274ms/step - loss: 0.0030\n",
            "Epoch 14/50\n",
            "19/19 [==============================] - 5s 269ms/step - loss: 0.0029\n",
            "Epoch 15/50\n",
            "19/19 [==============================] - 5s 272ms/step - loss: 0.0031\n",
            "Epoch 16/50\n",
            "19/19 [==============================] - 6s 322ms/step - loss: 0.0029\n",
            "Epoch 17/50\n",
            "19/19 [==============================] - 5s 277ms/step - loss: 0.0028\n",
            "Epoch 18/50\n",
            "19/19 [==============================] - 5s 263ms/step - loss: 0.0028\n",
            "Epoch 19/50\n",
            "19/19 [==============================] - 5s 270ms/step - loss: 0.0028\n",
            "Epoch 20/50\n",
            "19/19 [==============================] - 5s 274ms/step - loss: 0.0026\n",
            "Epoch 21/50\n",
            "19/19 [==============================] - 5s 267ms/step - loss: 0.0026\n",
            "Epoch 22/50\n",
            "19/19 [==============================] - 5s 272ms/step - loss: 0.0027\n",
            "Epoch 23/50\n",
            "19/19 [==============================] - 5s 286ms/step - loss: 0.0027\n",
            "Epoch 24/50\n",
            "19/19 [==============================] - 5s 274ms/step - loss: 0.0027\n",
            "Epoch 25/50\n",
            "19/19 [==============================] - 5s 273ms/step - loss: 0.0025\n",
            "Epoch 26/50\n",
            "19/19 [==============================] - 5s 270ms/step - loss: 0.0026\n",
            "Epoch 27/50\n",
            "19/19 [==============================] - 5s 285ms/step - loss: 0.0026\n",
            "Epoch 28/50\n",
            "19/19 [==============================] - 5s 272ms/step - loss: 0.0025\n",
            "Epoch 29/50\n",
            "19/19 [==============================] - 5s 273ms/step - loss: 0.0026\n",
            "Epoch 30/50\n",
            "19/19 [==============================] - 5s 265ms/step - loss: 0.0024\n",
            "Epoch 31/50\n",
            "19/19 [==============================] - 5s 275ms/step - loss: 0.0026\n",
            "Epoch 32/50\n",
            "19/19 [==============================] - 5s 273ms/step - loss: 0.0026\n",
            "Epoch 33/50\n",
            "19/19 [==============================] - 5s 279ms/step - loss: 0.0025\n",
            "Epoch 34/50\n",
            "19/19 [==============================] - 5s 274ms/step - loss: 0.0024\n",
            "Epoch 35/50\n",
            "19/19 [==============================] - 5s 263ms/step - loss: 0.0024\n",
            "Epoch 36/50\n",
            "19/19 [==============================] - 5s 273ms/step - loss: 0.0024\n",
            "Epoch 37/50\n",
            "19/19 [==============================] - 5s 268ms/step - loss: 0.0023\n",
            "Epoch 38/50\n",
            "19/19 [==============================] - 5s 275ms/step - loss: 0.0023\n",
            "Epoch 39/50\n",
            "19/19 [==============================] - 5s 274ms/step - loss: 0.0022\n",
            "Epoch 40/50\n",
            "19/19 [==============================] - 5s 274ms/step - loss: 0.0023\n",
            "Epoch 41/50\n",
            "19/19 [==============================] - 5s 274ms/step - loss: 0.0022\n",
            "Epoch 42/50\n",
            "19/19 [==============================] - 5s 263ms/step - loss: 0.0022\n",
            "Epoch 43/50\n",
            "19/19 [==============================] - 5s 277ms/step - loss: 0.0022\n",
            "Epoch 44/50\n",
            "19/19 [==============================] - 5s 264ms/step - loss: 0.0021\n",
            "Epoch 45/50\n",
            "19/19 [==============================] - 5s 274ms/step - loss: 0.0021\n",
            "Epoch 46/50\n",
            "19/19 [==============================] - 5s 285ms/step - loss: 0.0023\n",
            "Epoch 47/50\n",
            "19/19 [==============================] - 5s 271ms/step - loss: 0.0023\n",
            "Epoch 48/50\n",
            "19/19 [==============================] - 5s 280ms/step - loss: 0.0022\n",
            "Epoch 49/50\n",
            "19/19 [==============================] - 5s 272ms/step - loss: 0.0020\n",
            "Epoch 50/50\n",
            "19/19 [==============================] - 5s 277ms/step - loss: 0.0021\n"
          ]
        },
        {
          "output_type": "execute_result",
          "data": {
            "text/plain": [
              "<keras.callbacks.History at 0x7f6573df64c0>"
            ]
          },
          "metadata": {},
          "execution_count": 73
        }
      ]
    },
    {
      "cell_type": "code",
      "source": [
        "# Predicting prices\n",
        "GRU_predicted_stock_price = regressorGRU.predict(X_test)\n",
        "GRU_predicted_stock_price = sc.inverse_transform(GRU_predicted_stock_price)"
      ],
      "metadata": {
        "_uuid": "f20ca021ea3ce05f6c6a98db93775f1b2c9c022c",
        "trusted": true,
        "colab": {
          "base_uri": "https://localhost:8080/"
        },
        "id": "vauDWw5KQsbC",
        "outputId": "1b953ae4-7ad1-48ba-e5e9-b373181667c9"
      },
      "execution_count": 74,
      "outputs": [
        {
          "output_type": "stream",
          "name": "stdout",
          "text": [
            "6/6 [==============================] - 2s 33ms/step\n"
          ]
        }
      ]
    },
    {
      "cell_type": "code",
      "source": [
        "# Visualizing the results\n",
        "plot_predictions(test_set[60:],GRU_predicted_stock_price)"
      ],
      "metadata": {
        "_uuid": "da8e9fa28510aa03e7dd06d5070d7b16e05ebb6e",
        "trusted": true,
        "colab": {
          "base_uri": "https://localhost:8080/",
          "height": 325
        },
        "id": "SB9uhDi9QsbC",
        "outputId": "2c47f501-dc4e-4805-ca1c-912afeabadc9"
      },
      "execution_count": 75,
      "outputs": [
        {
          "output_type": "display_data",
          "data": {
            "text/plain": [
              "<Figure size 432x288 with 1 Axes>"
            ],
            "image/png": "[encoded data removed]"
          },
          "metadata": {}
        }
      ]
    },
    {
      "cell_type": "code",
      "source": [
        "# Evaluating our model\n",
        "return_rmse(test_set[60:],GRU_predicted_stock_price)"
      ],
      "metadata": {
        "_uuid": "23aec5ab1a717e3458c8d5cae68db0e7add091ae",
        "trusted": true,
        "colab": {
          "base_uri": "https://localhost:8080/"
        },
        "id": "A1HDqiOAQsbD",
        "outputId": "16852ad3-de8c-4dd9-eaef-75125d6c4320"
      },
      "execution_count": 76,
      "outputs": [
        {
          "output_type": "stream",
          "name": "stdout",
          "text": [
            "The root mean squared error is 3.4597837012812103.\n"
          ]
        }
      ]
    },
    {
      "cell_type": "markdown",
      "source": [
        "In this case, we see that the results are far better with LSTMs !"
      ],
      "metadata": {
        "id": "nchPzdyhajIG"
      }
    },
    {
      "cell_type": "code",
      "source": [],
      "metadata": {
        "id": "f5X2ZvVVfCB7"
      },
      "execution_count": null,
      "outputs": []
    }
  ]
}